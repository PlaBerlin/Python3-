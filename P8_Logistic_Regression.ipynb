{
 "cells": [
  {
   "cell_type": "markdown",
   "metadata": {
    "toc": true
   },
   "source": [
    "<h1>Table of Contents<span class=\"tocSkip\"></span></h1>\n",
    "<div class=\"toc\"><ul class=\"toc-item\"><li><span><a href=\"#01-Introduction\" data-toc-modified-id=\"01-Introduction-1\">01 Introduction</a></span></li><li><span><a href=\"#02-Sigmoid\" data-toc-modified-id=\"02-Sigmoid-2\">02 Sigmoid</a></span></li><li><span><a href=\"#03-求解$J(\\theta)$\" data-toc-modified-id=\"03-求解$J(\\theta)$-3\">03 求解$J(\\theta)$</a></span></li><li><span><a href=\"#04-决策边界\" data-toc-modified-id=\"04-决策边界-4\">04 决策边界</a></span></li></ul></div>"
   ]
  },
  {
   "cell_type": "markdown",
   "metadata": {},
   "source": [
    "# 01 Introduction"
   ]
  },
  {
   "cell_type": "markdown",
   "metadata": {},
   "source": [
    "逻辑回归：解决分类问题\n",
    "\n",
    "将样本的特征与样本发生的概率联系起来，返回结果是样本发生的概率，是一个数，因此属于回归算法\n",
    "\n",
    "只可以解决二分类问题\n",
    "\n",
    "预测值p>0.5是第一类，<0.5是第二类"
   ]
  },
  {
   "cell_type": "markdown",
   "metadata": {},
   "source": [
    "# 02 Sigmoid"
   ]
  },
  {
   "cell_type": "code",
   "execution_count": 4,
   "metadata": {},
   "outputs": [],
   "source": [
    "import numpy as np\n",
    "import matplotlib.pyplot as plt\n",
    "# sigmoid 值域为(0, 1)\n",
    "# 当t>0时,p>0.5\n",
    "# 当t<0时,p<0.5\n",
    "# 当t=0时，p=0.5\n",
    "def sigmoid(t):\n",
    "    return 1/(1+np.exp(-t))"
   ]
  },
  {
   "cell_type": "code",
   "execution_count": 5,
   "metadata": {},
   "outputs": [
    {
     "data": {
      "image/png": "[encoded data removed]",
      "text/plain": [
       "<Figure size 432x288 with 1 Axes>"
      ]
     },
     "metadata": {
      "needs_background": "light"
     },
     "output_type": "display_data"
    }
   ],
   "source": [
    "x = np.linspace(-10, 10, 500)\n",
    "y = sigmoid(x)\n",
    "\n",
    "plt.plot(x,y)\n",
    "plt.show()"
   ]
  },
  {
   "cell_type": "markdown",
   "metadata": {},
   "source": [
    "# 03 求解$J(\\theta)$"
   ]
  },
  {
   "cell_type": "code",
   "execution_count": 6,
   "metadata": {},
   "outputs": [],
   "source": [
    "import numpy as np\n",
    "import matplotlib.pyplot as plt\n",
    "\n",
    "# sigmoid(t)\n",
    "def sigmoid(t):\n",
    "    return 1./(1.+np.exp(-t))\n",
    "\n",
    "# J(theta)\n",
    "def J(theta, Xb, y):\n",
    "    p_hat = sigmoid(Xb.dot(theta))\n",
    "    return - np.sum(y * np.log(p_hat) + (1-y) * np.log(1-p_hat)) / len(y)\n",
    "# dJ(theta)\n",
    "def dJ(theta,Xb,y):\n",
    "    return Xb.T.dot(sigmoid(Xb.dot(theta)) - y) / len(y)\n",
    "\n",
    "# graident_decent\n",
    "def graident_decent(initial_theta, Xb, y, eta=0.01, n_iters=1e4, epsilon=1e-8):\n",
    "    theta = initial_theta\n",
    "    i_iter = 1\n",
    "    while i_iter <= n_iters:\n",
    "        gradient = dJ(theta, Xb, y)\n",
    "        last_theta = theta\n",
    "        theta = theta - eta*gradient\n",
    "        if(abs(J(theta, Xb, y)-J(last_theta,Xb, y))<epsilon):\n",
    "            break\n",
    "        i_iter += 1\n",
    "    return theta\n",
    "\n",
    "# 拼接Xb\n",
    "def get_Xb(X): \n",
    "    return np.hstack([np.ones(shape=(len(X),1)),X])\n",
    "\n",
    "# 返回预测概率\n",
    "def predict_pro(fitted_theta, X_test):\n",
    "    X_b = get_Xb(X_test)\n",
    "    return sigmoid(X_b.dot(fitted_theta))\n",
    "\n",
    "# 返回预测值，概率数组中>0.5的值为1\n",
    "def predict(fitted_theta, X_test):\n",
    "    pro = predict_pro(fitted_theta, X_test)\n",
    "    return np.array(pro>=0.5, dtype='int')"
   ]
  },
  {
   "cell_type": "code",
   "execution_count": 7,
   "metadata": {},
   "outputs": [],
   "source": [
    "from sklearn import datasets\n",
    "from sklearn.model_selection import train_test_split\n",
    "\n",
    "iris = datasets.load_iris()\n",
    "X = iris.data\n",
    "y = iris.target\n",
    "X = X[y<2,:2]\n",
    "y = y[y<2]"
   ]
  },
  {
   "cell_type": "code",
   "execution_count": 8,
   "metadata": {},
   "outputs": [
    {
     "data": {
      "image/png": "[encoded data removed]",
      "text/plain": [
       "<Figure size 432x288 with 1 Axes>"
      ]
     },
     "metadata": {
      "needs_background": "light"
     },
     "output_type": "display_data"
    }
   ],
   "source": [
    "plt.scatter(X[y==0,0], X[y==0,1], color='r')\n",
    "plt.scatter(X[y==1,0], X[y==1,1])\n",
    "plt.show()"
   ]
  },
  {
   "cell_type": "code",
   "execution_count": 9,
   "metadata": {},
   "outputs": [
    {
     "data": {
      "text/plain": [
       "array([0.92972035, 0.98664939, 0.14852024, 0.17601199, 0.0369836 ,\n",
       "       0.0186637 , 0.04936918, 0.99669244, 0.97993941, 0.74524655,\n",
       "       0.04473194, 0.00339285, 0.26131273, 0.0369836 , 0.84192923,\n",
       "       0.79892262, 0.82890209, 0.32358166, 0.06535323, 0.20735334])"
      ]
     },
     "execution_count": 9,
     "metadata": {},
     "output_type": "execute_result"
    }
   ],
   "source": [
    "X_train, X_test, y_train, y_test = train_test_split(X, y, test_size=0.2, random_state=666)\n",
    "\n",
    "Xb = get_Xb(X_train)\n",
    "initial_theta = np.zeros(Xb.shape[1])\n",
    "theta = graident_decent(initial_theta, Xb, y_train)\n",
    "predict_pro(theta, X_test)"
   ]
  },
  {
   "cell_type": "code",
   "execution_count": 10,
   "metadata": {},
   "outputs": [
    {
     "data": {
      "text/plain": [
       "array([1, 1, 0, 0, 0, 0, 0, 1, 1, 1, 0, 0, 0, 0, 1, 1, 1, 0, 0, 0])"
      ]
     },
     "execution_count": 10,
     "metadata": {},
     "output_type": "execute_result"
    }
   ],
   "source": [
    "predict(theta, X_test)"
   ]
  },
  {
   "cell_type": "code",
   "execution_count": 11,
   "metadata": {},
   "outputs": [
    {
     "data": {
      "text/plain": [
       "array([1, 1, 0, 0, 0, 0, 0, 1, 1, 1, 0, 0, 0, 0, 1, 1, 1, 0, 0, 0])"
      ]
     },
     "execution_count": 11,
     "metadata": {},
     "output_type": "execute_result"
    }
   ],
   "source": [
    "y_test"
   ]
  },
  {
   "cell_type": "markdown",
   "metadata": {},
   "source": [
    "# 04 决策边界"
   ]
  },
  {
   "cell_type": "code",
   "execution_count": 12,
   "metadata": {},
   "outputs": [],
   "source": [
    "def x2(theta, x1):\n",
    "    return -(theta[0] + theta[1]*x1) / theta[2]   "
   ]
  },
  {
   "cell_type": "code",
   "execution_count": 13,
   "metadata": {},
   "outputs": [],
   "source": [
    "x1_plot = np.linspace(4, 8,1000)\n",
    "x2_plot = x2(theta, x1_plot)"
   ]
  },
  {
   "cell_type": "code",
   "execution_count": 14,
   "metadata": {},
   "outputs": [
    {
     "data": {
      "image/png": "[encoded data removed]",
      "text/plain": [
       "<Figure size 432x288 with 1 Axes>"
      ]
     },
     "metadata": {
      "needs_background": "light"
     },
     "output_type": "display_data"
    }
   ],
   "source": [
    "plt.plot(x1_plot,x2_plot)\n",
    "plt.scatter(X[y==0,0], X[y==0,1], color='r')\n",
    "plt.scatter(X[y==1,0], X[y==1,1])\n",
    "plt.show()"
   ]
  },
  {
   "cell_type": "code",
   "execution_count": 15,
   "metadata": {},
   "outputs": [
    {
     "data": {
      "image/png": "[encoded data removed]",
      "text/plain": [
       "<Figure size 432x288 with 1 Axes>"
      ]
     },
     "metadata": {
      "needs_background": "light"
     },
     "output_type": "display_data"
    }
   ],
   "source": [
    "# 只看预测结果\n",
    "plt.plot(x1_plot,x2_plot)\n",
    "plt.scatter(X_test[y_test==0,0], X_test[y_test==0,1], color='r')\n",
    "plt.scatter(X_test[y_test==1,0], X_test[y_test==1,1])\n",
    "plt.show()"
   ]
  },
  {
   "cell_type": "code",
   "execution_count": null,
   "metadata": {},
   "outputs": [],
   "source": []
  }
 ],
 "metadata": {
  "kernelspec": {
   "display_name": "Python 3",
   "language": "python",
   "name": "python3"
  },
  "language_info": {
   "codemirror_mode": {
    "name": "ipython",
    "version": 3
   },
   "file_extension": ".py",
   "mimetype": "text/x-python",
   "name": "python",
   "nbconvert_exporter": "python",
   "pygments_lexer": "ipython3",
   "version": "3.7.0"
  },
  "toc": {
   "base_numbering": 1,
   "nav_menu": {},
   "number_sections": false,
   "sideBar": true,
   "skip_h1_title": false,
   "title_cell": "Table of Contents",
   "title_sidebar": "Contents",
   "toc_cell": true,
   "toc_position": {
    "height": "calc(100% - 180px)",
    "left": "10px",
    "top": "150px",
    "width": "165px"
   },
   "toc_section_display": true,
   "toc_window_display": true
  }
 },
 "nbformat": 4,
 "nbformat_minor": 2
}
